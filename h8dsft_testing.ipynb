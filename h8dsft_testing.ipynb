{
 "cells": [
  {
   "cell_type": "markdown",
   "metadata": {},
   "source": [
    "# NGC-04"
   ]
  },
  {
   "cell_type": "markdown",
   "metadata": {},
   "source": [
    "Do unit testing for a library system from the previous NGC"
   ]
  },
  {
   "cell_type": "code",
   "execution_count": 2,
   "metadata": {},
   "outputs": [],
   "source": [
    "class book:\n",
    "    def __init__(self, isbn, title, author):\n",
    "        self.isbn = isbn\n",
    "        self.title = title\n",
    "        self.author = author\n",
    "    \n",
    "    def __str__(self):\n",
    "        return f'ISBN: {self.isbn}, {self.title} by {self.author}'\n",
    "\n",
    "# Membuat class untuk perpustakaanya  \n",
    "class libraries:\n",
    "    def __init__(self):\n",
    "        self.book_list = []\n",
    "    \n",
    "    # Fungsi untuk menambah buku ke katalog\n",
    "    def adding_book(self, isbn, title, author):\n",
    "        buku = book(isbn, title, author) #storing objek dalam list\n",
    "        self.book_list.append(buku)\n",
    "\n",
    "    def remove_book(self, isbn):\n",
    "        try:\n",
    "            if not self.book_list: #Jika tidak ada buku sama sekali di dalam katalog\n",
    "                print('There\\'s no books in the catalogue')\n",
    "            else:\n",
    "                for bks in self.book_list:\n",
    "                    if bks.isbn == isbn:\n",
    "                        print(f'Book {bks.title} with ISBN: {isbn} successfully been removed')\n",
    "                        self.book_list.remove(bks)\n",
    "                    else:\n",
    "                        raise ValueError\n",
    "                \n",
    "        except ValueError: # Jika tidak ada buku dengan ISBN yang diinput\n",
    "            print(\"Error: There's no books with those ISBN number\")\n",
    "        \n",
    "    # Digunakan untuk mencari buku berdasarkan penulis    \n",
    "    def search_by_author(self, author):\n",
    "        if not self.book_list: #Jika tidak ada buku di dalam katalog\n",
    "                print('There\\'s no books in the catalogue')\n",
    "\n",
    "        else:\n",
    "            for bks in self.book_list:\n",
    "                 if bks.author.lower() == author.lower():\n",
    "                    print(f'ISBN: {bks.isbn}, Title: {bks.title}')\n",
    "    \n",
    "    # Digunakan untuk display katalog\n",
    "    def display_book(self):\n",
    "        if not self.book_list: # Jika tidak ada buku sama sekali di katalog\n",
    "            print('There\\'s no books added yet')\n",
    "        else:\n",
    "            for index, bks in enumerate(self.book_list):\n",
    "                print(f'{index + 1}. {bks}')"
   ]
  },
  {
   "cell_type": "code",
   "execution_count": 3,
   "metadata": {},
   "outputs": [],
   "source": [
    "perpustakaan = libraries()\n",
    "perpustakaan.adding_book(1111, 'Animal Farm', 'George Orwell')\n",
    "perpustakaan.adding_book(1112, '1984', 'George Orwell')"
   ]
  },
  {
   "cell_type": "code",
   "execution_count": 4,
   "metadata": {},
   "outputs": [
    {
     "name": "stdout",
     "output_type": "stream",
     "text": [
      "1. ISBN: 1111, Animal Farm by George Orwell\n",
      "2. ISBN: 1112, 1984 by George Orwell\n"
     ]
    }
   ],
   "source": [
    "perpustakaan.display_book()"
   ]
  },
  {
   "cell_type": "code",
   "execution_count": 5,
   "metadata": {},
   "outputs": [
    {
     "name": "stdout",
     "output_type": "stream",
     "text": [
      "ISBN: 1111, Title: Animal Farm\n",
      "ISBN: 1112, Title: 1984\n"
     ]
    }
   ],
   "source": [
    "# Unit Testing\n",
    "perpustakaan.search_by_author('George Orwell')"
   ]
  },
  {
   "cell_type": "code",
   "execution_count": null,
   "metadata": {},
   "outputs": [],
   "source": []
  }
 ],
 "metadata": {
  "kernelspec": {
   "display_name": "base",
   "language": "python",
   "name": "python3"
  },
  "language_info": {
   "codemirror_mode": {
    "name": "ipython",
    "version": 3
   },
   "file_extension": ".py",
   "mimetype": "text/x-python",
   "name": "python",
   "nbconvert_exporter": "python",
   "pygments_lexer": "ipython3",
   "version": "3.11.5"
  }
 },
 "nbformat": 4,
 "nbformat_minor": 2
}
