{
 "cells": [
  {
   "cell_type": "markdown",
   "metadata": {},
   "source": [
    "# NGC 3\n",
    "\n",
    "## Task\n",
    "Create a library catalog system using OOP. The system should allow users to add books to the catalog, search for books by title or author, and remove books from the catalog.\n",
    "\n",
    "Requirements:\n",
    "- Each book should have a title, author, and unique identifier\n",
    "- The system should provide the following functionality:\n",
    "  - Adding a book to the catalog.\n",
    "  - Searching for books by title or author.\n",
    "  - Removing a book from the catalog.\n",
    "  - Displaying all books in the catalog."
   ]
  },
  {
   "cell_type": "code",
   "execution_count": 1,
   "metadata": {},
   "outputs": [],
   "source": [
    "class libraries:\n",
    "    # Define libraries attributes\n",
    "    def __init__(self):\n",
    "       self.books = {}\n",
    "       self.authors = {}\n",
    "\n",
    "    # Function for adding books to library\n",
    "    def adding_books(self, book_isbn, book_title, book_author):\n",
    "        self.books[book_title] = [book_isbn, book_title, book_author] # add to book list\n",
    "        self.authors[book_author] = [book_isbn, book_title] # add to author list\n",
    "    \n",
    "    # Function for removing books from llibrary\n",
    "    def remove_books(self, book_title):\n",
    "        try:\n",
    "            self.books.pop(book_title)\n",
    "            print(f'{book_title} successfuly removed')\n",
    "        except:\n",
    "            pass\n",
    "            print('Book is not available')\n",
    "    \n",
    "    # Function for finding book by title\n",
    "    def search_by_title(self, book_title):\n",
    "        for book in self.books:\n",
    "                if book == book_title: # matching it with title that already on the list\n",
    "                    print(f'{self.books[book_title][1]} by {self.books[book_title][2]}') \n",
    "                \n",
    "    # Function for finding book by authors\n",
    "    def search_by_authors(self, book_author):\n",
    "        for author in self.authors:\n",
    "            if author == book_author:\n",
    "                print(f'ISBN: {self.authors[author][0]}, Book: {self.authors[author][1]} ')\n",
    "\n",
    "    # Function for displaying bookshelf        \n",
    "    def display_books(self):\n",
    "        for book_title in self.books:\n",
    "            print(f'{book_title} by {self.books[book_title][2]}')\n"
   ]
  },
  {
   "cell_type": "code",
   "execution_count": 2,
   "metadata": {},
   "outputs": [],
   "source": [
    "perpustakaan = libraries()\n",
    "perpustakaan.adding_books(1111, 'Bumi', 'Tere Liye')\n",
    "perpustakaan.adding_books(1112, 'Men Without Women', 'Haruki Murakami')\n",
    "perpustakaan.adding_books(1113, '1984', 'George Orwell')"
   ]
  },
  {
   "cell_type": "code",
   "execution_count": 3,
   "metadata": {},
   "outputs": [
    {
     "name": "stdout",
     "output_type": "stream",
     "text": [
      "Bumi by Tere Liye\n",
      "Men Without Women by Haruki Murakami\n",
      "1984 by George Orwell\n"
     ]
    }
   ],
   "source": [
    "perpustakaan.display_books()"
   ]
  },
  {
   "cell_type": "code",
   "execution_count": 4,
   "metadata": {},
   "outputs": [
    {
     "name": "stdout",
     "output_type": "stream",
     "text": [
      "1984 by George Orwell\n"
     ]
    }
   ],
   "source": [
    "perpustakaan.search_by_title('1984')"
   ]
  },
  {
   "cell_type": "code",
   "execution_count": 5,
   "metadata": {},
   "outputs": [
    {
     "name": "stdout",
     "output_type": "stream",
     "text": [
      "ISBN: 1112, Book: Men Without Women \n"
     ]
    }
   ],
   "source": [
    "perpustakaan.search_by_authors('Haruki Murakami')"
   ]
  },
  {
   "cell_type": "code",
   "execution_count": 6,
   "metadata": {},
   "outputs": [
    {
     "name": "stdout",
     "output_type": "stream",
     "text": [
      "Book is not available\n"
     ]
    }
   ],
   "source": [
    "perpustakaan.remove_books('1')"
   ]
  },
  {
   "cell_type": "code",
   "execution_count": 7,
   "metadata": {},
   "outputs": [
    {
     "name": "stdout",
     "output_type": "stream",
     "text": [
      "Bumi by Tere Liye\n",
      "Men Without Women by Haruki Murakami\n",
      "1984 by George Orwell\n"
     ]
    }
   ],
   "source": [
    "perpustakaan.display_books()"
   ]
  },
  {
   "cell_type": "code",
   "execution_count": null,
   "metadata": {},
   "outputs": [],
   "source": []
  }
 ],
 "metadata": {
  "kernelspec": {
   "display_name": "base",
   "language": "python",
   "name": "python3"
  },
  "language_info": {
   "codemirror_mode": {
    "name": "ipython",
    "version": 3
   },
   "file_extension": ".py",
   "mimetype": "text/x-python",
   "name": "python",
   "nbconvert_exporter": "python",
   "pygments_lexer": "ipython3",
   "version": "3.11.5"
  }
 },
 "nbformat": 4,
 "nbformat_minor": 2
}
