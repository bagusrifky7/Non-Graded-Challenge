{
 "cells": [
  {
   "cell_type": "markdown",
   "metadata": {},
   "source": [
    "# Non-Graded Challenge 2"
   ]
  },
  {
   "cell_type": "markdown",
   "metadata": {},
   "source": [
    "## Task 1"
   ]
  },
  {
   "cell_type": "markdown",
   "metadata": {},
   "source": [
    "**Number of Word**\n",
    "\n",
    "Create a function that count the number of word in a sentence.\n",
    "\n",
    "Instruction:\n",
    "1. Create function called `number_of_word`.\n",
    "2. This function takes 1 input, `sentence`.\n",
    "3. Inside this function, you can utilize `.split()` method to split the sentence into list of word(s).\n",
    "4. Also, use `len()` function to count the element inside a list.\n",
    "5. Return the number of word from the sentence.\n",
    "\n",
    "Example:\n",
    "```py \n",
    "number_of_word(sentence = ’Hello World!’) # output: 2\n",
    "number_of_word(sentence = ’Once Upon a Time in a faraway land’) # output: 8"
   ]
  },
  {
   "cell_type": "code",
   "execution_count": 26,
   "metadata": {},
   "outputs": [
    {
     "name": "stdout",
     "output_type": "stream",
     "text": [
      "2\n",
      "8\n"
     ]
    }
   ],
   "source": [
    "def number_of_word(sentence):\n",
    "    print(len(sentence.split()))\n",
    " \n",
    "\n",
    "number_of_word(sentence = 'Hello World')\n",
    "number_of_word(sentence = 'Once Upon a Time in a Faraway Land')"
   ]
  },
  {
   "cell_type": "markdown",
   "metadata": {},
   "source": [
    "## Task 2"
   ]
  },
  {
   "cell_type": "markdown",
   "metadata": {},
   "source": [
    "**Find Multiple**\n",
    "\n",
    "Create a function that will get list of number(s) from a certain range that multiples of given number.\n",
    "\n",
    "Instruction:\n",
    "1. Create function called `find_multiples`.\n",
    "2. This function takes 3 input: `start_range`, `end_range`, and `multiple`.\n",
    "3. From every number within the given range, check if that number is the mutliples of `multiple`.\n",
    "4. Return list of the possible multiple number(s).\n",
    "\n",
    "Example:\n",
    "```py\n",
    "find_multiple(start_range= 1, end_range= 20, multiple= 5) # output: [5, 10, 15, 20]\n",
    "find_multiple(start_range= 1, end_range= 50, multiple= 10) # output: [10, 20, 30, 40, 50]\n",
    "```"
   ]
  },
  {
   "cell_type": "code",
   "execution_count": 74,
   "metadata": {},
   "outputs": [],
   "source": [
    "def find_multiple(start_range, end_range, multiple):\n",
    "    for i in range(start_range, end_range, multiple):\n",
    "        print(i + multiple - 1, end = ' ')"
   ]
  },
  {
   "cell_type": "code",
   "execution_count": 75,
   "metadata": {},
   "outputs": [
    {
     "name": "stdout",
     "output_type": "stream",
     "text": [
      "5 10 15 20 "
     ]
    }
   ],
   "source": [
    "find_multiple(start_range = 1, end_range = 20, multiple = 5)"
   ]
  },
  {
   "cell_type": "code",
   "execution_count": 76,
   "metadata": {},
   "outputs": [
    {
     "name": "stdout",
     "output_type": "stream",
     "text": [
      "10 20 30 40 50 "
     ]
    }
   ],
   "source": [
    "find_multiple(start_range = 1, end_range = 50, multiple = 10)"
   ]
  },
  {
   "cell_type": "markdown",
   "metadata": {},
   "source": [
    "## Task 3"
   ]
  },
  {
   "cell_type": "markdown",
   "metadata": {},
   "source": [
    "**Grade Converter**\n",
    "\n",
    "Create a function that will convert student’s grade to GPA.\n",
    "\n",
    "Instruction: \n",
    "1. Create function called `Grade_Converter`.\n",
    "2. This function takes input: `convert_to` and n-paired of student(s) name with its respective score.\n",
    "3. Input argument for `convert_to` is either `letter_grade` or `gpa`.\n",
    "4. You can utilize **kwargs input argument to generate n-length paired of student(s) name with its respective score (Dictionary).\n",
    "5. This function will return dictionary of student’s name along with converted Letter Grade or GPA, depending on user input in `convert_to` parameter.\n",
    "\n",
    "Example:\n",
    "```py\n",
    "Grade_Converter(convert_to='gpa', Adam=62, Faiz=91) \n",
    "# output: {'Adam': 2.5, 'Faiz': 4}\n",
    "\n",
    "Grade_Converter(convert_to='letter_grade', Albert=90, Dwi=82, Syahdan=58, Veronica=84) \n",
    "# output: {'Albert': 'A', 'Dwi': 'B', 'Syahdan': 'D','Veronica': 'B'}"
   ]
  },
  {
   "cell_type": "code",
   "execution_count": 20,
   "metadata": {},
   "outputs": [
    {
     "name": "stdout",
     "output_type": "stream",
     "text": [
      "{'Adam': 2.5, 'Faiz': 4.0}\n",
      "{'Albert': 'A', 'Dwi': 'B', 'Syahdan': 'D', 'Veronica': 'B'}\n"
     ]
    }
   ],
   "source": [
    "def grade_converter(convert_to, **kwargs):  \n",
    "    def score_letter(nilai):\n",
    "        if nilai >= 85:\n",
    "            return 'A'\n",
    "        elif 70 <= nilai <= 84.99:\n",
    "            return 'B'\n",
    "        elif 60 <= nilai <= 69.99:\n",
    "            return 'C'\n",
    "        elif 50 <= nilai <= 59.99:\n",
    "            return 'D'\n",
    "        elif 40 <= nilai <= 49.99:\n",
    "            return 'E'\n",
    "        else:\n",
    "            return 'F'\n",
    "        \n",
    "    def score_gpa(nilai):\n",
    "        if nilai >= 85:\n",
    "            return 4.0\n",
    "        elif 70 <= nilai <= 84.99:\n",
    "            return 3.0\n",
    "        elif 60 <= nilai <= 69.99:\n",
    "            return 2.5\n",
    "        elif 50 <= nilai <= 59.99:\n",
    "            return 2.0\n",
    "        elif 40 <= nilai <= 49.99:\n",
    "            return 1.5\n",
    "        else:\n",
    "            return 1\n",
    "        \n",
    "    result = {}\n",
    "\n",
    "    for student, nilai in kwargs.items():\n",
    "        if convert_to == 'gpa':\n",
    "            result[student] = score_gpa(nilai)\n",
    "        elif convert_to == 'letter_grade':\n",
    "            result[student] = score_letter(nilai)\n",
    "    return result\n",
    "        \n",
    "\n",
    "    \n",
    "print(grade_converter(convert_to='gpa', Adam=62, Faiz=91))\n",
    "print(grade_converter(convert_to='letter_grade', Albert=90, Dwi=82, Syahdan=58, Veronica=84))\n"
   ]
  },
  {
   "cell_type": "markdown",
   "metadata": {},
   "source": [
    "## Task 4"
   ]
  },
  {
   "cell_type": "markdown",
   "metadata": {},
   "source": [
    "**Fibonacci Sequence** ([reference](https://www.techtarget.com/whatis/definition/Fibonacci-sequence))\n",
    "\n",
    "Create a function that will return the value of `n` in a fibonacci sequence based on the given index. Fibonacci sequence is a sequence in which each number is the sum of the two preceding ones. Suppose we have fibonacci sequence starting with: `0, 1, 1, 2, 3, 5, ...`, the next number should be **8** (sum of the two precedings, `3` and `5`)\n",
    "\n",
    "Instruction:\n",
    "1. The function will have 1 parameter, called `idx`, which represents the index/position of the number in a fibonacci sequence.\n",
    "2. The fibonacci sequence will start with the value of `0` and `1`.\n",
    "3. This function will return the value of `n` in a fibonacci sequence based on the given index.\n",
    "\n",
    "Example:\n",
    "```py\n",
    "my_function(0) # output: 0\n",
    "my_function(4) # output: 3\n",
    "my_function(10) # output: 55\n",
    "```"
   ]
  },
  {
   "cell_type": "code",
   "execution_count": 15,
   "metadata": {},
   "outputs": [
    {
     "name": "stdout",
     "output_type": "stream",
     "text": [
      "0\n",
      "3\n",
      "55\n"
     ]
    }
   ],
   "source": [
    "def fibonacci(n):\n",
    "    number_1 = 0\n",
    "    number_2 = 1\n",
    "    next_number = number_2\n",
    "    count = 0\n",
    "    result = [number_1,number_2]\n",
    "    \n",
    "    while count <= n:\n",
    "        count += 1\n",
    "        number_1, number_2 = number_2, next_number\n",
    "        result.append(next_number)\n",
    "        next_number = number_1 + number_2\n",
    "\n",
    "    return result[n]\n",
    "\n",
    "print(fibonacci(0))\n",
    "print(fibonacci(4))\n",
    "print(fibonacci(10))"
   ]
  },
  {
   "cell_type": "code",
   "execution_count": null,
   "metadata": {},
   "outputs": [],
   "source": []
  }
 ],
 "metadata": {
  "kernelspec": {
   "display_name": "base",
   "language": "python",
   "name": "python3"
  },
  "language_info": {
   "codemirror_mode": {
    "name": "ipython",
    "version": 3
   },
   "file_extension": ".py",
   "mimetype": "text/x-python",
   "name": "python",
   "nbconvert_exporter": "python",
   "pygments_lexer": "ipython3",
   "version": "3.11.5"
  }
 },
 "nbformat": 4,
 "nbformat_minor": 2
}
