{
 "cells": [
  {
   "cell_type": "markdown",
   "metadata": {},
   "source": [
    "# NGC 5\n",
    "\n",
    "## Task\n",
    "You are asked to create a customer and order table as follows \"Customers\" and \"Orders\". Determine the right datatype to create the two tables.\n",
    "\n",
    "Here are the structures and data for both tables:\n",
    "\n",
    "**Table 1**\n",
    "\n",
    "<img width=\"657\" alt=\"image\" src=\"ngc-05-table1.png\">\n",
    "\n",
    "**Table 2**\n",
    "\n",
    "<img width=\"583\" alt=\"image\" src=\"ngc-05-table2.png\">\n",
    "\n",
    "Once you have successfully created both tables, create a query to retrieve the total number of orders made by each customer along with the customer name from the \"Customers\" and \"Orders\" tables.\n",
    "\n",
    "**Expected Output:**\n",
    "\n",
    "<img width=\"400\" alt=\"image\" src=\"ngc-05-output.png\">\n",
    "\n",
    "## Submission\n",
    "Save your query in `ngc-05.sql` file"
   ]
  }
 ],
 "metadata": {
  "language_info": {
   "name": "python"
  }
 },
 "nbformat": 4,
 "nbformat_minor": 2
}
