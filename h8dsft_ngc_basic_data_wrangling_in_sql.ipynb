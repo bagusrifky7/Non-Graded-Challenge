{
 "cells": [
  {
   "cell_type": "markdown",
   "metadata": {},
   "source": [
    "# NGC 5\n",
    "\n",
    "## Task\n",
    "You are asked to create a customer and order table as follows \"Customers\" and \"Orders\". Determine the right datatype to create the two tables.\n",
    "\n",
    "Here are the structures and data for both tables:\n",
    "\n",
    "**Table 1**\n",
    "\n",
    "<img width=\"657\" alt=\"image\" src=\"ngc-05-table1.png\">\n",
    "\n",
    "**Table 2**\n",
    "\n",
    "<img width=\"583\" alt=\"image\" src=\"ngc-05-table2.png\">\n",
    "\n",
    "Once you have successfully created both tables, create a query to retrieve the total number of orders made by each customer along with the customer name from the \"Customers\" and \"Orders\" tables.\n",
    "\n",
    "**Expected Output:**\n",
    "\n",
    "<img width=\"400\" alt=\"image\" src=\"ngc-05-output.png\">\n"
   ]
  },
  {
   "cell_type": "markdown",
   "metadata": {},
   "source": [
    "## Answer"
   ]
  },
  {
   "cell_type": "code",
   "execution_count": null,
   "metadata": {
    "vscode": {
     "languageId": "sql"
    }
   },
   "outputs": [],
   "source": [
    "-- Membuat tabel customers\n",
    "create table \"Customers\" ( \n",
    "\tcustomer_id int primary key,\n",
    "\tcustomer_name varchar,\n",
    "\tcity varchar\n",
    ");\n",
    "\n",
    "-- Membuat tabel \"Orders\"\n",
    "create table \"Orders\" (\n",
    "\torder_id int primary key,\n",
    "\tcustomer_id int,\n",
    "\tforeign key (customer_id) references \"Customers\"(customer_id),\n",
    "\torder_date date,\n",
    "\ttotal_amount float\n",
    ");\n",
    "\n",
    "\n",
    "\n",
    "-- Insert values tabel customers\n",
    "insert into \"Customers\" (customer_id, customer_name, city)\n",
    "\tvalues\n",
    "\t\t(1, 'John Doe', 'New York'),\n",
    "\t\t(2, 'Jane Smith', 'Los Angeles'),\n",
    "\t\t(3, 'David Johnson', 'Chicago');\n",
    "\t\t\n",
    "-- Insert values tabel orders\n",
    "insert into \"Orders\" (order_id, customer_id, order_date, total_amount)\n",
    "\tvalues\n",
    "\t(1, 1, '2022-01-10', 100.00),\n",
    "\t(2, 1, '2022-02-15', 150.00),\n",
    "\t(3, 2, '2022-03-20', 200.00),\n",
    "\t(4, 3, '2022-04-25', 50.00);\n",
    "\n",
    "\n",
    "select * from \"Customers\"; --- display tabel customers\n",
    "select * from \"Orders\"; --- display tabel orders\n",
    "\n",
    "-- membuat tabel join untuk display hasil\n",
    "select\n",
    "\ta.customer_name,\n",
    "\tcount(b.order_id) as total_orders\n",
    "from \"Customers\" as a\n",
    "join \"Orders\" as b\n",
    "on a.customer_id = b.customer_id\n",
    "group by customer_name\n",
    "order by total_orders desc, customer_name desc;"
   ]
  }
 ],
 "metadata": {
  "language_info": {
   "name": "python"
  }
 },
 "nbformat": 4,
 "nbformat_minor": 2
}
